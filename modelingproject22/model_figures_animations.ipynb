{
  "nbformat": 4,
  "nbformat_minor": 0,
  "metadata": {
    "colab": {
      "provenance": [],
      "collapsed_sections": [],
      "authorship_tag": "ABX9TyMlwJSrsDzUODT6RcbVomzI",
      "include_colab_link": true
    },
    "kernelspec": {
      "name": "python3",
      "display_name": "Python 3"
    },
    "language_info": {
      "name": "python"
    }
  },
  "cells": [
    {
      "cell_type": "markdown",
      "metadata": {
        "id": "view-in-github",
        "colab_type": "text"
      },
      "source": [
        "<a href=\"https://colab.research.google.com/github/JoshuaClugston/JoshuaClugston/blob/main/modelingproject22/model_figures_animations.ipynb\" target=\"_parent\"><img src=\"https://colab.research.google.com/assets/colab-badge.svg\" alt=\"Open In Colab\"/></a>"
      ]
    },
    {
      "cell_type": "code",
      "execution_count": null,
      "metadata": {
        "id": "xsRWZO1h8pBy"
      },
      "outputs": [],
      "source": [
        "import numpy as np \n",
        "import matplotlib.pyplot as plt\n",
        "from scipy.integrate import odeint"
      ]
    },
    {
      "cell_type": "markdown",
      "source": [
        "\\begin{equation}\n",
        "\\begin{alignedat}{4}\n",
        "\\frac{dN}{dt} &= \\beta_{1}N(1-N)-r_{1}\\frac{N}{h+N}E -\\alpha_{1}\\frac{N}{h+N}A-\\alpha_{2}\\frac{N}{h+N}R, \\\\\n",
        "\\frac{dE}{dt} &= r_{1}\\frac{N}{h+N}E - r_{2}\\frac{E}{h+E}R-\\beta_{2}E -\\gamma_{1}\\frac{E}{h+E}A, \\\\\n",
        "\\frac{dR}{dt} &= r_{2}\\frac{E}{h+E}R -\\beta_{3}R-r_{3}\\frac{R}{h+R}A + \\alpha_{2}\\frac{N}{h+N}R, \\\\\n",
        "\\frac{dA}{dt} &= r_{3}\\frac{R}{h+R} - \\beta_{4}A + \\alpha_{1}\\frac{N}{h+N}A + \\gamma_{1}\\frac{E}{h+E}A,\n",
        "\\end{alignedat}\n",
        "\\end{equation}"
      ],
      "metadata": {
        "id": "VUMCfXxF9U7u"
      }
    },
    {
      "cell_type": "code",
      "source": [
        "def model(params, N, E, R, A, t):\n",
        "  p = params\n",
        "  dN = p[2]*N*(1-N)-p[6]*N/(p[9]+N)*E - p[0]*N/(p[10]+N)*A - p[1]*N/(p[10]+N)*R\n",
        "  dE = p[6]*N/(p[10]+N)*E - p[7]*E/(p[10]+E)*R - p[3]*E - p[9]*E/(p[10]+E)*A\n",
        "  dR = p[7]*E/(p[10]+E)*R - p[4]*R - p[8]*R/(p[10]+R)*A + p[1]*N/(p[9]+N)*R\n",
        "  dA = p[8]*R/(p[10]+R) - p[5]*A + p[0]*N/(p[10]+N)*A + p[9]*E/(p[10]+E)*A\n",
        "  return np.array([dN, dE, dR, dA])\n",
        "\n",
        "\n",
        "# define params - change later\n",
        "alpha1 = 0\n",
        "alpha2 = 1 \n",
        "beta1 = 2\n",
        "beta2 = 3\n",
        "beta3 = 4\n",
        "beta4 = 5\n",
        "r1 = 6\n",
        "r2 = 7\n",
        "r3 = 8\n",
        "gamma1 = 9\n",
        "h = 10\n",
        "params = [alpha1, alpha2, beta1, beta2, beta3, beta4, r1, r2,\\\n",
        "          r3, gamma1, h]\n",
        "\n",
        "print('number of parameters:', len(params),'\\ncurrent values of parameters:', params)\n",
        "for i in params:\n",
        "  print('paramater value:', i)\n",
        "\n",
        "# examples of using the function defined 'model' above. note t can be a list, and n, e, r, a don't necessarily need to be specific numbers\n",
        "model(params,1,2,4,5,1)"
      ],
      "metadata": {
        "colab": {
          "base_uri": "https://localhost:8080/"
        },
        "id": "okDh35hZ9dpQ",
        "outputId": "7e520a72-1bce-41d4-aadc-81e6e5335b31"
      },
      "execution_count": null,
      "outputs": [
        {
          "output_type": "stream",
          "name": "stdout",
          "text": [
            "number of parameters: 11 \n",
            "current values of parameters: [0, 1, 2, 3, 4, 5, 6, 7, 8, 9, 10]\n",
            "paramater value: 0\n",
            "paramater value: 1\n",
            "paramater value: 2\n",
            "paramater value: 3\n",
            "paramater value: 4\n",
            "paramater value: 5\n",
            "paramater value: 6\n",
            "paramater value: 7\n",
            "paramater value: 8\n",
            "paramater value: 9\n",
            "paramater value: 10\n"
          ]
        },
        {
          "output_type": "execute_result",
          "data": {
            "text/plain": [
              "array([ -1.56363636, -17.07575758, -22.36190476, -15.21428571])"
            ]
          },
          "metadata": {},
          "execution_count": 16
        }
      ]
    }
  ]
}